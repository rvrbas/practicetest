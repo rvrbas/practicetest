{
 "cells": [
  {
   "cell_type": "markdown",
   "metadata": {},
   "source": [
    "# MC316 Practice Test – PYTHON"
   ]
  },
  {
   "cell_type": "markdown",
   "metadata": {},
   "source": [
    "Please read the questions carefully. You will have 30 minutes to finish the test. "
   ]
  },
  {
   "cell_type": "markdown",
   "metadata": {},
   "source": [
    "#### Please import pandas library for use in scripting in the cell below. \n"
   ]
  },
  {
   "cell_type": "code",
   "execution_count": 2,
   "metadata": {},
   "outputs": [],
   "source": [
    "import pandas as pd"
   ]
  },
  {
   "cell_type": "markdown",
   "metadata": {},
   "source": [
    "#### Please import the datasets and name them. \n",
    "For this test, you will use employee compensation data provided by Kansas Department of Administration. Download the original data here: <http://kanview.ks.gov/DataDownload.aspx>. \n",
    "For your convenience, the datasets were downloaded and uploaded to the instructor's database. You can retrieve the url for the first dataset from  <https://datajournalism.tech/wp-content/uploads/2019/05/EmployeeData_2017.csv> and the second dataset from\n",
    "<https://datajournalism.tech/wp-content/uploads/2019/05/EmployeeData_2018.csv>"
   ]
  },
  {
   "cell_type": "code",
   "execution_count": 31,
   "metadata": {
    "scrolled": true
   },
   "outputs": [],
   "source": [
    "employee17 = pd.read_csv(\"https://datajournalism.tech/wp-content/uploads/2019/05/EmployeeData_2017.csv\")"
   ]
  },
  {
   "cell_type": "code",
   "execution_count": 32,
   "metadata": {
    "scrolled": false
   },
   "outputs": [],
   "source": [
    "employee18 = pd.read_csv(\"https://datajournalism.tech/wp-content/uploads/2019/05/EmployeeData_2018.csv\")"
   ]
  },
  {
   "cell_type": "markdown",
   "metadata": {},
   "source": [
    "#### Please describe the two datasets."
   ]
  },
  {
   "cell_type": "code",
   "execution_count": 23,
   "metadata": {},
   "outputs": [
    {
     "name": "stdout",
     "output_type": "stream",
     "text": [
      "<class 'pandas.core.frame.DataFrame'>\n",
      "RangeIndex: 39422 entries, 0 to 39421\n",
      "Data columns (total 7 columns):\n",
      "Agency_Number      39422 non-null int64\n",
      "Agency_Name        39422 non-null object\n",
      "Employee_Name      39422 non-null object\n",
      "Job_Title          39422 non-null object\n",
      "Total_Gross_Pay    39422 non-null float64\n",
      "Overtime_Pay       8615 non-null float64\n",
      "Unnamed: 6         0 non-null float64\n",
      "dtypes: float64(3), int64(1), object(3)\n",
      "memory usage: 2.1+ MB\n"
     ]
    }
   ],
   "source": [
    "employee17.info() "
   ]
  },
  {
   "cell_type": "code",
   "execution_count": 25,
   "metadata": {},
   "outputs": [
    {
     "name": "stdout",
     "output_type": "stream",
     "text": [
      "<class 'pandas.core.frame.DataFrame'>\n",
      "RangeIndex: 39299 entries, 0 to 39298\n",
      "Data columns (total 8 columns):\n",
      "Fiscal_Year        39299 non-null int64\n",
      "Agency_Number      39299 non-null int64\n",
      "Agency_Name        39299 non-null object\n",
      "Employee_Name      39299 non-null object\n",
      "Job_Title          39299 non-null object\n",
      "Total_Gross_Pay    39299 non-null float64\n",
      "Overtime_Pay       39299 non-null float64\n",
      "Unnamed: 7         0 non-null float64\n",
      "dtypes: float64(3), int64(2), object(3)\n",
      "memory usage: 2.4+ MB\n"
     ]
    }
   ],
   "source": [
    "employee18.info() "
   ]
  },
  {
   "cell_type": "markdown",
   "metadata": {},
   "source": [
    "#### Question 1: In the year of 2017,  which agency has the most employees? \n",
    "After writing the code, make sure you give the answer in the cell right below the code."
   ]
  },
  {
   "cell_type": "code",
   "execution_count": 36,
   "metadata": {},
   "outputs": [
    {
     "data": {
      "text/plain": [
       "Kansas State University                5367\n",
       "University of Kansas                   5207\n",
       "University of Kansas Medical Center    3419\n",
       "Wichita State University               2248\n",
       "Department of Transportation           2180\n",
       "Name: Agency_Name, dtype: int64"
      ]
     },
     "execution_count": 36,
     "metadata": {},
     "output_type": "execute_result"
    }
   ],
   "source": [
    "employee17.Agency_Name.value_counts().head(5)"
   ]
  },
  {
   "cell_type": "markdown",
   "metadata": {},
   "source": [
    "Answer: Kansas State University"
   ]
  },
  {
   "cell_type": "markdown",
   "metadata": {},
   "source": [
    "#### Question 2: In the year of 2018, does this agency still have the most employees? If yes, is there any change in the total number of employees? If no, what's the name of the agency that had the most employees?"
   ]
  },
  {
   "cell_type": "code",
   "execution_count": 29,
   "metadata": {},
   "outputs": [
    {
     "data": {
      "text/plain": [
       "97"
      ]
     },
     "execution_count": 29,
     "metadata": {},
     "output_type": "execute_result"
    }
   ],
   "source": [
    "5464-5367"
   ]
  },
  {
   "cell_type": "code",
   "execution_count": null,
   "metadata": {},
   "outputs": [],
   "source": [
    "Yes, Kansas State still has the most employeees, actually icreased by 97"
   ]
  },
  {
   "cell_type": "markdown",
   "metadata": {},
   "source": [
    "Answer:"
   ]
  },
  {
   "cell_type": "markdown",
   "metadata": {},
   "source": [
    "#### Question 3: How many employees that Kansas State University had in the year of 2018? Who are these people and how much they got paid?\n",
    "Provide a subset of data and name it `KSU`. Describe the subset."
   ]
  },
  {
   "cell_type": "code",
   "execution_count": 42,
   "metadata": {},
   "outputs": [],
   "source": [
    "KSU = employee18[employee18.Agency_Name == \"Kansas State University\"]"
   ]
  },
  {
   "cell_type": "markdown",
   "metadata": {},
   "source": [
    "KSU.info()"
   ]
  },
  {
   "cell_type": "code",
   "execution_count": null,
   "metadata": {},
   "outputs": [],
   "source": [
    "See table yourself"
   ]
  },
  {
   "cell_type": "markdown",
   "metadata": {},
   "source": [
    "#### Question 4: At Kansas University University, who got paid the most in the year of 2018? Is it considered an increase or decrease of compensation for that employee, compared to the year of 2017? How big is the difference?"
   ]
  },
  {
   "cell_type": "code",
   "execution_count": 49,
   "metadata": {},
   "outputs": [],
   "source": [
    "merged = pd.merge(KSU,employee17, on=\"Employee_Name\")"
   ]
  },
  {
   "cell_type": "code",
   "execution_count": 50,
   "metadata": {
    "scrolled": true
   },
   "outputs": [
    {
     "name": "stdout",
     "output_type": "stream",
     "text": [
      "<class 'pandas.core.frame.DataFrame'>\n",
      "Int64Index: 4600 entries, 0 to 4599\n",
      "Data columns (total 14 columns):\n",
      "Fiscal_Year          4600 non-null int64\n",
      "Agency_Number_x      4600 non-null int64\n",
      "Agency_Name_x        4600 non-null object\n",
      "Employee_Name        4600 non-null object\n",
      "Job_Title_x          4600 non-null object\n",
      "Total_Gross_Pay_x    4600 non-null float64\n",
      "Overtime_Pay_x       4600 non-null float64\n",
      "Unnamed: 7           0 non-null float64\n",
      "Agency_Number_y      4600 non-null int64\n",
      "Agency_Name_y        4600 non-null object\n",
      "Job_Title_y          4600 non-null object\n",
      "Total_Gross_Pay_y    4600 non-null float64\n",
      "Overtime_Pay_y       482 non-null float64\n",
      "Unnamed: 6           0 non-null float64\n",
      "dtypes: float64(6), int64(3), object(5)\n",
      "memory usage: 539.1+ KB\n"
     ]
    }
   ],
   "source": [
    "merged.info()"
   ]
  },
  {
   "cell_type": "code",
   "execution_count": 56,
   "metadata": {},
   "outputs": [
    {
     "data": {
      "text/html": [
       "<div>\n",
       "<style scoped>\n",
       "    .dataframe tbody tr th:only-of-type {\n",
       "        vertical-align: middle;\n",
       "    }\n",
       "\n",
       "    .dataframe tbody tr th {\n",
       "        vertical-align: top;\n",
       "    }\n",
       "\n",
       "    .dataframe thead th {\n",
       "        text-align: right;\n",
       "    }\n",
       "</style>\n",
       "<table border=\"1\" class=\"dataframe\">\n",
       "  <thead>\n",
       "    <tr style=\"text-align: right;\">\n",
       "      <th></th>\n",
       "      <th>Employee_Name</th>\n",
       "      <th>Job_Title_x</th>\n",
       "      <th>Total_Gross_Pay_y</th>\n",
       "      <th>Total_Gross_Pay_x</th>\n",
       "    </tr>\n",
       "  </thead>\n",
       "  <tbody>\n",
       "    <tr>\n",
       "      <th>2863</th>\n",
       "      <td>Myers  Richard B</td>\n",
       "      <td>President</td>\n",
       "      <td>454615.35</td>\n",
       "      <td>531250.02</td>\n",
       "    </tr>\n",
       "    <tr>\n",
       "      <th>3993</th>\n",
       "      <td>Taylor  Gene F</td>\n",
       "      <td>Director of Athletics</td>\n",
       "      <td>60576.95</td>\n",
       "      <td>450000.20</td>\n",
       "    </tr>\n",
       "    <tr>\n",
       "      <th>1023</th>\n",
       "      <td>Dorhout  Peter Kenneth</td>\n",
       "      <td>Vice President</td>\n",
       "      <td>332307.63</td>\n",
       "      <td>327815.27</td>\n",
       "    </tr>\n",
       "    <tr>\n",
       "      <th>912</th>\n",
       "      <td>Dawson  Darren Merritt</td>\n",
       "      <td>Dean-Professor</td>\n",
       "      <td>328361.58</td>\n",
       "      <td>323922.66</td>\n",
       "    </tr>\n",
       "    <tr>\n",
       "      <th>1529</th>\n",
       "      <td>Gwinner  Kevin Patrick</td>\n",
       "      <td>Dean-Professor</td>\n",
       "      <td>345361.58</td>\n",
       "      <td>323922.66</td>\n",
       "    </tr>\n",
       "  </tbody>\n",
       "</table>\n",
       "</div>"
      ],
      "text/plain": [
       "               Employee_Name            Job_Title_x  Total_Gross_Pay_y  \\\n",
       "2863        Myers  Richard B              President          454615.35   \n",
       "3993          Taylor  Gene F  Director of Athletics           60576.95   \n",
       "1023  Dorhout  Peter Kenneth         Vice President          332307.63   \n",
       "912   Dawson  Darren Merritt         Dean-Professor          328361.58   \n",
       "1529  Gwinner  Kevin Patrick         Dean-Professor          345361.58   \n",
       "\n",
       "      Total_Gross_Pay_x  \n",
       "2863          531250.02  \n",
       "3993          450000.20  \n",
       "1023          327815.27  \n",
       "912           323922.66  \n",
       "1529          323922.66  "
      ]
     },
     "execution_count": 56,
     "metadata": {},
     "output_type": "execute_result"
    }
   ],
   "source": [
    "merged.groupby([\"Employee_Name\",\"Job_Title_x\", \"Total_Gross_Pay_y\"]).Total_Gross_Pay_x.sum().reset_index().sort_values(\"Total_Gross_Pay_x\", ascending=False).head()"
   ]
  },
  {
   "cell_type": "code",
   "execution_count": 55,
   "metadata": {},
   "outputs": [
    {
     "data": {
      "text/plain": [
       "76634.67000000004"
      ]
     },
     "execution_count": 55,
     "metadata": {},
     "output_type": "execute_result"
    }
   ],
   "source": [
    "531250.02-454615.35"
   ]
  },
  {
   "cell_type": "code",
   "execution_count": null,
   "metadata": {},
   "outputs": [],
   "source": [
    "76634.67"
   ]
  },
  {
   "cell_type": "markdown",
   "metadata": {},
   "source": [
    "Answer:Richard B Myers got paid the most in 2018. His pay incresased $76634 from 2017-2018"
   ]
  },
  {
   "cell_type": "markdown",
   "metadata": {},
   "source": [
    "### END OF THE TEST"
   ]
  }
 ],
 "metadata": {
  "kernelspec": {
   "display_name": "Python 2",
   "language": "python",
   "name": "python2"
  },
  "language_info": {
   "codemirror_mode": {
    "name": "ipython",
    "version": 2
   },
   "file_extension": ".py",
   "mimetype": "text/x-python",
   "name": "python",
   "nbconvert_exporter": "python",
   "pygments_lexer": "ipython2",
   "version": "2.7.10"
  }
 },
 "nbformat": 4,
 "nbformat_minor": 2
}
